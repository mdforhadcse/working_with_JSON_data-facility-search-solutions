{
 "cells": [
  {
   "cell_type": "code",
   "id": "initial_id",
   "metadata": {
    "collapsed": true,
    "ExecuteTime": {
     "end_time": "2024-09-24T22:50:29.524625Z",
     "start_time": "2024-09-24T22:50:29.515102Z"
    }
   },
   "source": [
    "# Solution 1: Jupyter Notebook\n",
    "# Import the json module to work with json files\n",
    "import json\n",
    "\n",
    "from altair.vega import layout\n",
    "\n",
    "# Load the facilities data from the json file\n",
    "file = 'facilities.json'\n",
    "with open(file, 'r') as f:\n",
    "    facilities = json.load(f)\n",
    "    \n",
    "# function to search for facilities by keyword or search term\n",
    "def search_facilities(facilities, keyword):\n",
    "    results = [facility for facility in facilities if keyword.lower() in facility['facility'].lower()]\n",
    "    if not results:\n",
    "        print(\"No results found\")\n",
    "    else:\n",
    "        print(f\"Found {len(results)} results\\n\")\n",
    "        for result in results:\n",
    "            print(f\"ID: {result['Id']}\\nFacility:{result['facility']}\\n\")"
   ],
   "outputs": [],
   "execution_count": 44
  },
  {
   "metadata": {
    "ExecuteTime": {
     "end_time": "2024-09-24T22:50:30.099791Z",
     "start_time": "2024-09-24T22:50:30.095161Z"
    }
   },
   "cell_type": "code",
   "source": [
    "# Search for facilities by keyword, please replace 'Peterborough' with your keyword or search term\n",
    "keyword = 'Peterborough'\n",
    "search_facilities(facilities,keyword)"
   ],
   "id": "1005a2e8dfdd11c7",
   "outputs": [
    {
     "name": "stdout",
     "output_type": "stream",
     "text": [
      "Found 2 results\n",
      "\n",
      "ID: 1\n",
      "Facility:105 Peterborough St. - Compact Spots 1 or 2\n",
      "\n",
      "ID: 3\n",
      "Facility:109 Peterborough St. - Compact Spots 10 or 11\n",
      "\n"
     ]
    }
   ],
   "execution_count": 45
  },
  {
   "metadata": {
    "ExecuteTime": {
     "end_time": "2024-09-25T16:22:38.996351Z",
     "start_time": "2024-09-25T16:22:38.993510Z"
    }
   },
   "cell_type": "code",
   "source": "",
   "id": "f1f03d9498e7ff16",
   "outputs": [],
   "execution_count": null
  },
  {
   "metadata": {},
   "cell_type": "code",
   "outputs": [],
   "execution_count": null,
   "source": "",
   "id": "9663063a39501aad"
  },
  {
   "metadata": {},
   "cell_type": "code",
   "outputs": [],
   "execution_count": null,
   "source": "",
   "id": "971cc19885f1d336"
  },
  {
   "metadata": {},
   "cell_type": "code",
   "outputs": [],
   "execution_count": null,
   "source": "",
   "id": "b4bca10c27cef671"
  },
  {
   "metadata": {
    "ExecuteTime": {
     "end_time": "2024-10-01T06:37:34.876623Z",
     "start_time": "2024-10-01T06:37:34.821535Z"
    }
   },
   "cell_type": "code",
   "source": [
    "# Solution 3: IPython.display and ipywidgets\n",
    "from facility_search import load_facilities, create_facility_ui\n",
    "\n",
    "# Load the facilities data from the json file\n",
    "file = 'facilities.json'\n",
    "facilities = load_facilities(file)\n",
    "\n",
    "# Create the facility search user interface\n",
    "create_facility_ui(facilities)\n"
   ],
   "id": "ed78db2f0c6d4a2a",
   "outputs": [
    {
     "data": {
      "text/plain": [
       "Text(value='', description='Search Keyword:', placeholder='Enter partial facility name')"
      ],
      "application/vnd.jupyter.widget-view+json": {
       "version_major": 2,
       "version_minor": 0,
       "model_id": "2c09b5070e8a49ef9e2e7a60b5065d21"
      }
     },
     "metadata": {},
     "output_type": "display_data"
    },
    {
     "data": {
      "text/plain": [
       "Button(button_style='info', description='Search', icon='search', style=ButtonStyle(), tooltip='Click to search…"
      ],
      "application/vnd.jupyter.widget-view+json": {
       "version_major": 2,
       "version_minor": 0,
       "model_id": "4aa36b207f604abab43527a59bb4e4af"
      }
     },
     "metadata": {},
     "output_type": "display_data"
    },
    {
     "data": {
      "text/plain": [
       "Textarea(value='', layout=Layout(height='50px', width='100%'), placeholder='')"
      ],
      "application/vnd.jupyter.widget-view+json": {
       "version_major": 2,
       "version_minor": 0,
       "model_id": "6fa6d37171ea4b7297c940e6234b17bb"
      }
     },
     "metadata": {},
     "output_type": "display_data"
    },
    {
     "data": {
      "text/plain": [
       "Textarea(value='', description='Results:', layout=Layout(height='200px', width='100%'), placeholder='')"
      ],
      "application/vnd.jupyter.widget-view+json": {
       "version_major": 2,
       "version_minor": 0,
       "model_id": "4b7dcc72c41c4769bd25a57e3a8ad345"
      }
     },
     "metadata": {},
     "output_type": "display_data"
    },
    {
     "data": {
      "text/plain": [
       "Dropdown(description='Select Facility:', options=(('105 Peterborough St. - Compact Spots 1 or 2', 1), ('1089 B…"
      ],
      "application/vnd.jupyter.widget-view+json": {
       "version_major": 2,
       "version_minor": 0,
       "model_id": "8baf75e0ca3e440aaec92ff310341ff7"
      }
     },
     "metadata": {},
     "output_type": "display_data"
    },
    {
     "data": {
      "text/plain": [
       "Button(button_style='info', description='Select', icon='check', style=ButtonStyle(), tooltip='Click to select …"
      ],
      "application/vnd.jupyter.widget-view+json": {
       "version_major": 2,
       "version_minor": 0,
       "model_id": "212523f93d8744d78517bd93e8e18e66"
      }
     },
     "metadata": {},
     "output_type": "display_data"
    },
    {
     "data": {
      "text/plain": [
       "Textarea(value='', description='Selected:', disabled=True, layout=Layout(height='50px', width='100%'), placeho…"
      ],
      "application/vnd.jupyter.widget-view+json": {
       "version_major": 2,
       "version_minor": 0,
       "model_id": "0a8af7f98f414e8fbdb2eeed292d2703"
      }
     },
     "metadata": {},
     "output_type": "display_data"
    }
   ],
   "execution_count": 1
  },
  {
   "metadata": {},
   "cell_type": "code",
   "outputs": [],
   "execution_count": null,
   "source": "",
   "id": "44d18c8dc6850832"
  }
 ],
 "metadata": {
  "kernelspec": {
   "display_name": "Python 3",
   "language": "python",
   "name": "python3"
  },
  "language_info": {
   "codemirror_mode": {
    "name": "ipython",
    "version": 2
   },
   "file_extension": ".py",
   "mimetype": "text/x-python",
   "name": "python",
   "nbconvert_exporter": "python",
   "pygments_lexer": "ipython2",
   "version": "2.7.6"
  }
 },
 "nbformat": 4,
 "nbformat_minor": 5
}
